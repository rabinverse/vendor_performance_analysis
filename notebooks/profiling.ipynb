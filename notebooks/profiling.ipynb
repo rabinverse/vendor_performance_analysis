{
 "cells": [
  {
   "cell_type": "code",
   "execution_count": 2,
   "id": "7caa1bf9",
   "metadata": {},
   "outputs": [],
   "source": [
    "import pandas as pd\n",
    "import os\n",
    "from sqlalchemy import create_engine\n",
    "import time"
   ]
  },
  {
   "cell_type": "code",
   "execution_count": 9,
   "id": "8a68bec1",
   "metadata": {},
   "outputs": [],
   "source": [
    "engine= create_engine('sqlite:///inventory_data.db')"
   ]
  },
  {
   "cell_type": "code",
   "execution_count": 14,
   "id": "bd7aedd3",
   "metadata": {},
   "outputs": [
    {
     "name": "stdout",
     "output_type": "stream",
     "text": [
      "begin_inventory.csv : (206529, 9)\n",
      "end_inventory.csv : (224489, 9)\n",
      "purchases.csv : (2372474, 16)\n",
      "purchase_prices.csv : (12261, 9)\n",
      "sales.csv : (12825363, 14)\n",
      "vendor_invoice.csv : (5543, 10)\n"
     ]
    }
   ],
   "source": [
    "for file in os.listdir(\"../data/raw\"):\n",
    "    df=pd.read_csv('../data/raw/'+file)\n",
    "    print(file,':',df.shape)"
   ]
  },
  {
   "cell_type": "code",
   "execution_count": 6,
   "id": "f6b267d4",
   "metadata": {},
   "outputs": [],
   "source": [
    "def ingest_db(df,table_name,engine):\n",
    "    df.to_sql(table_name,con=engine,if_exists=\"replace\",index=False)"
   ]
  },
  {
   "cell_type": "code",
   "execution_count": 10,
   "id": "34ce5742",
   "metadata": {},
   "outputs": [],
   "source": [
    "df=pd.read_csv(\"../data/raw/vendor_invoice.csv\")\n",
    "ingest_db(df,\"vendor_invoice\",engine)"
   ]
  },
  {
   "cell_type": "code",
   "execution_count": null,
   "id": "c37f9bde",
   "metadata": {},
   "outputs": [],
   "source": [
    "for file in os.listdir(\"../data/raw\"): \n",
    "    start_time=time.time() \n",
    "    df=pd.read_csv('../data/raw/'+file) \n",
    "    ingest_db(df,file[:-4],engine)\n",
    "    print(file,':',(time.time()-start_time)) "
   ]
  }
 ],
 "metadata": {
  "kernelspec": {
   "display_name": "venv-vendor",
   "language": "python",
   "name": "python3"
  },
  "language_info": {
   "codemirror_mode": {
    "name": "ipython",
    "version": 3
   },
   "file_extension": ".py",
   "mimetype": "text/x-python",
   "name": "python",
   "nbconvert_exporter": "python",
   "pygments_lexer": "ipython3",
   "version": "3.11.9"
  }
 },
 "nbformat": 4,
 "nbformat_minor": 5
}
